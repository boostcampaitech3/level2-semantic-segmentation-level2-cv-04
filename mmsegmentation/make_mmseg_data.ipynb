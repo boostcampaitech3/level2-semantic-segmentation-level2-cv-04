{
 "cells": [
  {
   "cell_type": "code",
   "execution_count": 20,
   "metadata": {},
   "outputs": [],
   "source": [
    "!mkdir mmseg\n",
    "!mkdir mmseg/labels\n",
    "!mkdir mmseg/images\n",
    "!mkdir mmseg/splits"
   ]
  },
  {
   "cell_type": "code",
   "execution_count": 32,
   "metadata": {},
   "outputs": [],
   "source": [
    "from pycocotools.coco import COCO\n",
    "import numpy as np\n",
    "import os\n",
    "import glob\n",
    "import shutil"
   ]
  },
  {
   "cell_type": "code",
   "execution_count": 34,
   "metadata": {},
   "outputs": [],
   "source": [
    "for path in glob.glob('batch_01_vt/*'):\n",
    "    shutil.copy(path,'mmseg/images/'+path.replace('/','_'))\n",
    "\n",
    "for path in glob.glob('batch_02_vt/*'):\n",
    "    shutil.copy(path,'mmseg/images/'+path.replace('/','_'))\n",
    "\n",
    "for path in glob.glob('batch_03/*'):\n",
    "    shutil.copy(path,'mmseg/images/'+path.replace('/','_'))"
   ]
  },
  {
   "cell_type": "code",
   "execution_count": 22,
   "metadata": {},
   "outputs": [
    {
     "name": "stdout",
     "output_type": "stream",
     "text": [
      "[1]\n",
      "{'license': 0, 'url': None, 'file_name': 'batch_01_vt/0005.jpg', 'height': 512, 'width': 512, 'date_captured': None, 'id': 1}\n"
     ]
    }
   ],
   "source": [
    "val_dir = '../data/val.json'\n",
    "train_dir = '../data/train.json'\n",
    "\n",
    "val_coco = COCO(val_dir)\n",
    "train_coco = COCO(train_dir)"
   ]
  },
  {
   "cell_type": "code",
   "execution_count": 23,
   "metadata": {},
   "outputs": [],
   "source": [
    "def make_txt(coco):\n",
    "    for idx in coco.getImgIds():        # cocodata의 모든 image idx list\n",
    "        image_id = coco.getImgIds(imgIds=idx)\n",
    "        image_infos = coco.loadImgs(image_id)[0]            # 이미지 file_name, height, width를 담고있는 dict\n",
    "\n",
    "        ann_ids = coco.getAnnIds(imgIds=image_infos['id'])  # 이미지 idx가 일치하는 ann id list\n",
    "        anns = coco.loadAnns(ann_ids)\n",
    "\n",
    "        masks = np.zeros((image_infos[\"height\"], image_infos[\"width\"]))\n",
    "        for i in range(len(anns)):\n",
    "            masks[coco.annToMask(anns[i]) == 1] = anns[i]['category_id']\n",
    "        masks = masks.astype(np.int8).astype(np.str)\n",
    "\n",
    "        with open(os.path.join('../data/mmseg/labels',image_infos['file_name'].replace('/','_').replace('.jpg','.txt')), 'w') as f:\n",
    "            for mask in masks.tolist():\n",
    "                f.write(' '.join(mask) + '\\n')"
   ]
  },
  {
   "cell_type": "code",
   "execution_count": 24,
   "metadata": {},
   "outputs": [],
   "source": [
    "make_txt(val_coco)\n",
    "make_txt(train_coco)"
   ]
  },
  {
   "cell_type": "code",
   "execution_count": 25,
   "metadata": {},
   "outputs": [
    {
     "name": "stdout",
     "output_type": "stream",
     "text": [
      "General trash\n",
      "Paper\n",
      "Paper pack\n",
      "Metal\n",
      "Glass\n",
      "Plastic\n",
      "Styrofoam\n",
      "Plastic bag\n",
      "Battery\n",
      "Clothing\n"
     ]
    }
   ],
   "source": [
    "cat_ids = val_coco.getCatIds()\n",
    "cats = val_coco.loadCats(cat_ids)"
   ]
  },
  {
   "cell_type": "code",
   "execution_count": 26,
   "metadata": {},
   "outputs": [],
   "source": [
    "import mmcv\n",
    "import os.path as osp\n",
    "import numpy as np\n",
    "from PIL import Image\n",
    "\n",
    "# convert dataset annotation to semantic segmentation map\n",
    "data_root = 'mmseg'\n",
    "img_dir = 'images'\n",
    "ann_dir = 'labels'\n",
    "\n",
    "# define class and plaette for better visualization\n",
    "classes = []\n",
    "for c in cats:\n",
    "    classes.append(c['name'])\n",
    "palette = [[128, 128, 128], [129, 127, 38], [120, 69, 125], [53, 125, 34], \n",
    "           [0, 11, 123], [118, 20, 12], [122, 81, 25], [241, 134, 51],[0, 241, 0],[0, 241, 0]]\n",
    "for file in mmcv.scandir(osp.join(data_root, ann_dir), suffix='.txt'):\n",
    "  seg_map = np.loadtxt(osp.join(data_root, ann_dir, file)).astype(np.uint8)\n",
    "  seg_img = Image.fromarray(seg_map).convert('P')\n",
    "  seg_img.putpalette(np.array(palette, dtype=np.uint8))\n",
    "  seg_img.save(osp.join(data_root, ann_dir, file.replace('.txt','.png')))"
   ]
  },
  {
   "cell_type": "code",
   "execution_count": 29,
   "metadata": {},
   "outputs": [],
   "source": [
    "with open('mmseg/splits/train.txt','w') as f:\n",
    "    for idx in train_coco.getImgIds():\n",
    "        image_id = train_coco.getImgIds(imgIds=idx)\n",
    "        image_infos = train_coco.loadImgs(image_id)[0]\n",
    "        f.write(image_infos['file_name'].replace('/','_').replace('.jpg','') + '\\n')"
   ]
  },
  {
   "cell_type": "code",
   "execution_count": 30,
   "metadata": {},
   "outputs": [],
   "source": [
    "with open('mmseg/splits/val.txt','w') as f:\n",
    "    for idx in val_coco.getImgIds():\n",
    "        image_id = val_coco.getImgIds(imgIds=idx)\n",
    "        image_infos = val_coco.loadImgs(image_id)[0]    \n",
    "        f.write(image_infos['file_name'].replace('/','_').replace('.jpg','') + '\\n')"
   ]
  },
  {
   "cell_type": "code",
   "execution_count": null,
   "metadata": {},
   "outputs": [],
   "source": []
  }
 ],
 "metadata": {
  "interpreter": {
   "hash": "d4d1e4263499bec80672ea0156c357c1ee493ec2b1c70f0acce89fc37c4a6abe"
  },
  "kernelspec": {
   "display_name": "Python 3.8.5 ('base')",
   "language": "python",
   "name": "python3"
  },
  "language_info": {
   "codemirror_mode": {
    "name": "ipython",
    "version": 3
   },
   "file_extension": ".py",
   "mimetype": "text/x-python",
   "name": "python",
   "nbconvert_exporter": "python",
   "pygments_lexer": "ipython3",
   "version": "3.8.5"
  },
  "orig_nbformat": 4
 },
 "nbformat": 4,
 "nbformat_minor": 2
}
